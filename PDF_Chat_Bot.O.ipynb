{
  "nbformat": 4,
  "nbformat_minor": 0,
  "metadata": {
    "colab": {
      "provenance": [],
      "gpuType": "T4",
      "include_colab_link": true
    },
    "kernelspec": {
      "name": "python3",
      "display_name": "Python 3"
    },
    "language_info": {
      "name": "python"
    },
    "accelerator": "GPU"
  },
  "cells": [
    {
      "cell_type": "markdown",
      "metadata": {
        "id": "view-in-github",
        "colab_type": "text"
      },
      "source": [
        "<a href=\"https://colab.research.google.com/github/Tarwish2005/Pdf_Chat_Bot/blob/main/PDF_Chat_Bot.O.ipynb\" target=\"_parent\"><img src=\"https://colab.research.google.com/assets/colab-badge.svg\" alt=\"Open In Colab\"/></a>"
      ]
    },
    {
      "cell_type": "code",
      "source": [
        "%pip install -U langgraph\n",
        "\n",
        "\n",
        "\n",
        "\n"
      ],
      "metadata": {
        "colab": {
          "base_uri": "https://localhost:8080/"
        },
        "id": "-Ci_DEq8KBmk",
        "outputId": "a74509ce-0ab2-4882-af51-406543512f70"
      },
      "execution_count": 2,
      "outputs": [
        {
          "output_type": "stream",
          "name": "stdout",
          "text": [
            "Collecting langgraph\n",
            "  Downloading langgraph-0.6.5-py3-none-any.whl.metadata (6.8 kB)\n",
            "Requirement already satisfied: langchain-core>=0.1 in /usr/local/lib/python3.12/dist-packages (from langgraph) (0.3.74)\n",
            "Collecting langgraph-checkpoint<3.0.0,>=2.1.0 (from langgraph)\n",
            "  Downloading langgraph_checkpoint-2.1.1-py3-none-any.whl.metadata (4.2 kB)\n",
            "Collecting langgraph-prebuilt<0.7.0,>=0.6.0 (from langgraph)\n",
            "  Downloading langgraph_prebuilt-0.6.4-py3-none-any.whl.metadata (4.5 kB)\n",
            "Collecting langgraph-sdk<0.3.0,>=0.2.0 (from langgraph)\n",
            "  Downloading langgraph_sdk-0.2.2-py3-none-any.whl.metadata (1.5 kB)\n",
            "Requirement already satisfied: pydantic>=2.7.4 in /usr/local/lib/python3.12/dist-packages (from langgraph) (2.11.7)\n",
            "Requirement already satisfied: xxhash>=3.5.0 in /usr/local/lib/python3.12/dist-packages (from langgraph) (3.5.0)\n",
            "Requirement already satisfied: langsmith>=0.3.45 in /usr/local/lib/python3.12/dist-packages (from langchain-core>=0.1->langgraph) (0.4.14)\n",
            "Requirement already satisfied: tenacity!=8.4.0,<10.0.0,>=8.1.0 in /usr/local/lib/python3.12/dist-packages (from langchain-core>=0.1->langgraph) (9.1.2)\n",
            "Requirement already satisfied: jsonpatch<2.0,>=1.33 in /usr/local/lib/python3.12/dist-packages (from langchain-core>=0.1->langgraph) (1.33)\n",
            "Requirement already satisfied: PyYAML>=5.3 in /usr/local/lib/python3.12/dist-packages (from langchain-core>=0.1->langgraph) (6.0.2)\n",
            "Requirement already satisfied: typing-extensions>=4.7 in /usr/local/lib/python3.12/dist-packages (from langchain-core>=0.1->langgraph) (4.14.1)\n",
            "Requirement already satisfied: packaging>=23.2 in /usr/local/lib/python3.12/dist-packages (from langchain-core>=0.1->langgraph) (25.0)\n",
            "Collecting ormsgpack>=1.10.0 (from langgraph-checkpoint<3.0.0,>=2.1.0->langgraph)\n",
            "  Downloading ormsgpack-1.10.0-cp312-cp312-manylinux_2_17_x86_64.manylinux2014_x86_64.whl.metadata (43 kB)\n",
            "\u001b[2K     \u001b[90m━━━━━━━━━━━━━━━━━━━━━━━━━━━━━━━━━━━━━━━━\u001b[0m \u001b[32m43.7/43.7 kB\u001b[0m \u001b[31m4.5 MB/s\u001b[0m eta \u001b[36m0:00:00\u001b[0m\n",
            "\u001b[?25hRequirement already satisfied: httpx>=0.25.2 in /usr/local/lib/python3.12/dist-packages (from langgraph-sdk<0.3.0,>=0.2.0->langgraph) (0.28.1)\n",
            "Requirement already satisfied: orjson>=3.10.1 in /usr/local/lib/python3.12/dist-packages (from langgraph-sdk<0.3.0,>=0.2.0->langgraph) (3.11.2)\n",
            "Requirement already satisfied: annotated-types>=0.6.0 in /usr/local/lib/python3.12/dist-packages (from pydantic>=2.7.4->langgraph) (0.7.0)\n",
            "Requirement already satisfied: pydantic-core==2.33.2 in /usr/local/lib/python3.12/dist-packages (from pydantic>=2.7.4->langgraph) (2.33.2)\n",
            "Requirement already satisfied: typing-inspection>=0.4.0 in /usr/local/lib/python3.12/dist-packages (from pydantic>=2.7.4->langgraph) (0.4.1)\n",
            "Requirement already satisfied: anyio in /usr/local/lib/python3.12/dist-packages (from httpx>=0.25.2->langgraph-sdk<0.3.0,>=0.2.0->langgraph) (4.10.0)\n",
            "Requirement already satisfied: certifi in /usr/local/lib/python3.12/dist-packages (from httpx>=0.25.2->langgraph-sdk<0.3.0,>=0.2.0->langgraph) (2025.8.3)\n",
            "Requirement already satisfied: httpcore==1.* in /usr/local/lib/python3.12/dist-packages (from httpx>=0.25.2->langgraph-sdk<0.3.0,>=0.2.0->langgraph) (1.0.9)\n",
            "Requirement already satisfied: idna in /usr/local/lib/python3.12/dist-packages (from httpx>=0.25.2->langgraph-sdk<0.3.0,>=0.2.0->langgraph) (3.10)\n",
            "Requirement already satisfied: h11>=0.16 in /usr/local/lib/python3.12/dist-packages (from httpcore==1.*->httpx>=0.25.2->langgraph-sdk<0.3.0,>=0.2.0->langgraph) (0.16.0)\n",
            "Requirement already satisfied: jsonpointer>=1.9 in /usr/local/lib/python3.12/dist-packages (from jsonpatch<2.0,>=1.33->langchain-core>=0.1->langgraph) (3.0.0)\n",
            "Requirement already satisfied: requests-toolbelt>=1.0.0 in /usr/local/lib/python3.12/dist-packages (from langsmith>=0.3.45->langchain-core>=0.1->langgraph) (1.0.0)\n",
            "Requirement already satisfied: requests>=2.0.0 in /usr/local/lib/python3.12/dist-packages (from langsmith>=0.3.45->langchain-core>=0.1->langgraph) (2.32.3)\n",
            "Requirement already satisfied: zstandard>=0.23.0 in /usr/local/lib/python3.12/dist-packages (from langsmith>=0.3.45->langchain-core>=0.1->langgraph) (0.23.0)\n",
            "Requirement already satisfied: charset-normalizer<4,>=2 in /usr/local/lib/python3.12/dist-packages (from requests>=2.0.0->langsmith>=0.3.45->langchain-core>=0.1->langgraph) (3.4.3)\n",
            "Requirement already satisfied: urllib3<3,>=1.21.1 in /usr/local/lib/python3.12/dist-packages (from requests>=2.0.0->langsmith>=0.3.45->langchain-core>=0.1->langgraph) (2.5.0)\n",
            "Requirement already satisfied: sniffio>=1.1 in /usr/local/lib/python3.12/dist-packages (from anyio->httpx>=0.25.2->langgraph-sdk<0.3.0,>=0.2.0->langgraph) (1.3.1)\n",
            "Downloading langgraph-0.6.5-py3-none-any.whl (153 kB)\n",
            "\u001b[2K   \u001b[90m━━━━━━━━━━━━━━━━━━━━━━━━━━━━━━━━━━━━━━━━\u001b[0m \u001b[32m153.2/153.2 kB\u001b[0m \u001b[31m17.8 MB/s\u001b[0m eta \u001b[36m0:00:00\u001b[0m\n",
            "\u001b[?25hDownloading langgraph_checkpoint-2.1.1-py3-none-any.whl (43 kB)\n",
            "\u001b[2K   \u001b[90m━━━━━━━━━━━━━━━━━━━━━━━━━━━━━━━━━━━━━━━━\u001b[0m \u001b[32m43.9/43.9 kB\u001b[0m \u001b[31m5.0 MB/s\u001b[0m eta \u001b[36m0:00:00\u001b[0m\n",
            "\u001b[?25hDownloading langgraph_prebuilt-0.6.4-py3-none-any.whl (28 kB)\n",
            "Downloading langgraph_sdk-0.2.2-py3-none-any.whl (52 kB)\n",
            "\u001b[2K   \u001b[90m━━━━━━━━━━━━━━━━━━━━━━━━━━━━━━━━━━━━━━━━\u001b[0m \u001b[32m52.0/52.0 kB\u001b[0m \u001b[31m6.1 MB/s\u001b[0m eta \u001b[36m0:00:00\u001b[0m\n",
            "\u001b[?25hDownloading ormsgpack-1.10.0-cp312-cp312-manylinux_2_17_x86_64.manylinux2014_x86_64.whl (216 kB)\n",
            "\u001b[2K   \u001b[90m━━━━━━━━━━━━━━━━━━━━━━━━━━━━━━━━━━━━━━━━\u001b[0m \u001b[32m216.7/216.7 kB\u001b[0m \u001b[31m25.8 MB/s\u001b[0m eta \u001b[36m0:00:00\u001b[0m\n",
            "\u001b[?25hInstalling collected packages: ormsgpack, langgraph-sdk, langgraph-checkpoint, langgraph-prebuilt, langgraph\n",
            "Successfully installed langgraph-0.6.5 langgraph-checkpoint-2.1.1 langgraph-prebuilt-0.6.4 langgraph-sdk-0.2.2 ormsgpack-1.10.0\n"
          ]
        }
      ]
    },
    {
      "cell_type": "code",
      "execution_count": 9,
      "metadata": {
        "colab": {
          "base_uri": "https://localhost:8080/"
        },
        "id": "CJciaAwFJLWi",
        "outputId": "e669e0ce-412a-4076-e7de-971d8b4cdedf"
      },
      "outputs": [
        {
          "output_type": "stream",
          "name": "stdout",
          "text": [
            "Split PDF into 67 chunks.\n"
          ]
        }
      ],
      "source": [
        "# Install required packages\n",
        "%pip install --quiet --upgrade langchain-text-splitters langchain-community langgraph langchain-openai pypdf\n",
        "\n",
        "import getpass\n",
        "import os\n",
        "from typing import List\n",
        "from typing_extensions import TypedDict\n",
        "from pydantic import BaseModel, Field\n",
        "\n",
        "# Set up environment\n",
        "os.environ[\"LANGSMITH_TRACING\"] = \"true\"\n",
        "os.environ[\"LANGCHAIN_API_KEY\"] = \"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\"\n",
        "\n",
        "if not os.environ.get(\"OPENAI_API_KEY\"):\n",
        "    os.environ[\"OPENAI_API_KEY\"] = getpass.getpass(\"Enter API key for OpenAI: \")\n",
        "\n",
        "# Initialize LLM and embeddings\n",
        "from langchain.chat_models import init_chat_model\n",
        "from langchain_openai import OpenAIEmbeddings\n",
        "\n",
        "llm = init_chat_model(\"gpt-4o-mini\", model_provider=\"openai\")\n",
        "embeddings = OpenAIEmbeddings(model=\"text-embedding-3-large\")\n",
        "\n",
        "# Define the Search schema\n",
        "class Search(BaseModel):\n",
        "    \"\"\"Search query for retrieving relevant documents.\"\"\"\n",
        "    query: str = Field(description=\"The search query to find relevant information\")\n",
        "    section: str = Field(default=\"\", description=\"Optional section filter\")\n",
        "\n",
        "# Load and process PDF\n",
        "from langchain_community.document_loaders import PyPDFLoader\n",
        "from langchain_text_splitters import RecursiveCharacterTextSplitter\n",
        "from langchain_core.vectorstores import InMemoryVectorStore\n",
        "\n",
        "file_path = \"/content/Attention.pdf\"\n",
        "\n",
        "# Load PDF pages\n",
        "loader = PyPDFLoader(file_path)\n",
        "pages = []\n",
        "async for page in loader.alazy_load():\n",
        "    pages.append(page)\n",
        "\n",
        "# Split documents into chunks\n",
        "text_splitter = RecursiveCharacterTextSplitter(\n",
        "    chunk_size=1000,\n",
        "    chunk_overlap=200,\n",
        "    add_start_index=True,\n",
        ")\n",
        "all_splits = text_splitter.split_documents(pages)\n",
        "print(f\"Split PDF into {len(all_splits)} chunks.\")\n",
        "\n",
        "# Create vector store\n",
        "vector_store = InMemoryVectorStore.from_documents(all_splits, embeddings)\n",
        "\n",
        "# Import required modules for LangGraph\n",
        "from langchain_core.documents import Document\n",
        "from langgraph.graph import StateGraph, END, START\n",
        "from langchain_core.messages import HumanMessage, AIMessage\n",
        "\n",
        "# Define state\n",
        "class State(TypedDict):\n",
        "    question: str\n",
        "    query: Search\n",
        "    context: List[Document]\n",
        "    answer: str\n",
        "    mode: str  # \"chat\" or \"rag\"\n",
        "    history: List  # stores past conversation turns\n",
        "\n",
        "# Initialize the graph builder\n",
        "graph_builder = StateGraph(State)\n",
        "\n",
        "# Routing function\n",
        "def route_mode(state: State) -> str:\n",
        "    \"\"\"Decide whether to use chat-only or RAG.\"\"\"\n",
        "    q = state[\"question\"].lower()\n",
        "\n",
        "    # Simple heuristic: if question contains PDF-related terms, use RAG\n",
        "    if any(word in q for word in [\"pdf\", \"document\", \"invoice\", \"report\", \"file\", \"paper\", \"attention\"]):\n",
        "        return \"retrieve\"\n",
        "    else:\n",
        "        return \"chat_only\"\n",
        "\n",
        "# Chat Node\n",
        "def chat_only(state: State):\n",
        "    messages = state.get(\"history\", []) + [HumanMessage(content=state[\"question\"])]\n",
        "    response = llm.invoke(messages)\n",
        "    return {\n",
        "        \"answer\": response.content,\n",
        "        \"history\": messages + [AIMessage(content=response.content)]\n",
        "    }\n",
        "\n",
        "# Define workflow functions\n",
        "def analyze_query(state: State):\n",
        "    structured_llm = llm.with_structured_output(Search)\n",
        "    query = structured_llm.invoke(state[\"question\"])\n",
        "    return {\"query\": query}\n",
        "\n",
        "def retrieve(state: State):\n",
        "    # First analyze the query if not already done\n",
        "    if \"query\" not in state or not state[\"query\"]:\n",
        "        structured_llm = llm.with_structured_output(Search)\n",
        "        query = structured_llm.invoke(state[\"question\"])\n",
        "    else:\n",
        "        query = state[\"query\"]\n",
        "\n",
        "    # Retrieve relevant documents\n",
        "    retrieved_docs = vector_store.similarity_search(query.query, k=4)\n",
        "    return {\"context\": retrieved_docs, \"query\": query}\n",
        "\n",
        "# RAG generation node\n",
        "def generate(state: State):\n",
        "    docs_content = \"\\n\\n\".join(doc.page_content for doc in state[\"context\"])\n",
        "\n",
        "    # Create a proper RAG prompt\n",
        "    rag_prompt = f\"\"\"You are a helpful assistant. Answer the question based on the provided context.\n",
        "\n",
        "Context:\n",
        "{docs_content}\n",
        "\n",
        "Question: {state['question']}\n",
        "\n",
        "Answer based on the context provided. If the context doesn't contain enough information to answer the question, say so.\"\"\"\n",
        "\n",
        "    messages = state.get(\"history\", []) + [HumanMessage(content=rag_prompt)]\n",
        "    response = llm.invoke(messages)\n",
        "\n",
        "    return {\n",
        "        \"answer\": response.content,\n",
        "        \"history\": messages + [AIMessage(content=response.content)]\n",
        "    }\n",
        "\n",
        "# Add nodes to graph\n",
        "graph_builder.add_node(\"analyze_query\", analyze_query)\n",
        "graph_builder.add_node(\"chat_only\", chat_only)\n",
        "graph_builder.add_node(\"retrieve\", retrieve)\n",
        "graph_builder.add_node(\"generate\", generate)\n",
        "\n",
        "# Define edges\n",
        "graph_builder.add_edge(START, \"analyze_query\")\n",
        "\n",
        "# Add conditional routing from analyze_query\n",
        "graph_builder.add_conditional_edges(\n",
        "    \"analyze_query\",\n",
        "    route_mode,\n",
        "    {\n",
        "        \"chat_only\": \"chat_only\",\n",
        "        \"retrieve\": \"retrieve\"\n",
        "    }\n",
        ")\n",
        "\n",
        "# Connect retrieve to generate\n",
        "graph_builder.add_edge(\"retrieve\", \"generate\")\n",
        "\n",
        "# Add end edges\n",
        "graph_builder.add_edge(\"chat_only\", END)\n",
        "graph_builder.add_edge(\"generate\", END)\n",
        "\n",
        "# Compile the graph\n",
        "graph = graph_builder.compile()\n",
        "\n",
        "# Test the system\n",
        "global_state = {\"history\": []}\n",
        "\n",
        "def ask_question(question: str):\n",
        "    global global_state\n",
        "    state_input = {\n",
        "        \"question\": question,\n",
        "        \"history\": global_state.get(\"history\", []),\n",
        "        \"query\": None,\n",
        "        \"context\": [],\n",
        "        \"answer\": \"\",\n",
        "        \"mode\": \"\"\n",
        "    }\n",
        "    result = graph.invoke(state_input)\n",
        "    global_state[\"history\"] = result.get(\"history\", [])\n",
        "    return result[\"answer\"]\n",
        "\n",
        "# Example usage:\n",
        "# answer = ask_question(\"What is the main concept discussed in the PDF?\")\n",
        "# print(answer)"
      ]
    },
    {
      "cell_type": "code",
      "source": [],
      "metadata": {
        "id": "-z2G8lFIJqnQ"
      },
      "execution_count": null,
      "outputs": []
    },
    {
      "cell_type": "code",
      "metadata": {
        "colab": {
          "base_uri": "https://localhost:8080/"
        },
        "id": "56b9ae1c",
        "outputId": "591e4d00-e802-4f9b-f0aa-f6c3b20979ae"
      },
      "source": [
        "question = \"Hey\"\n",
        "answer = ask_question(question)\n",
        "print(answer)"
      ],
      "execution_count": 11,
      "outputs": [
        {
          "output_type": "stream",
          "name": "stdout",
          "text": [
            "Hello! How can I assist you today?\n"
          ]
        }
      ]
    },
    {
      "cell_type": "code",
      "source": [
        "question = \"Sumarize this pdf\"\n",
        "answer = ask_question(question)\n",
        "print(answer)"
      ],
      "metadata": {
        "id": "mMLrUosKNCy6",
        "colab": {
          "base_uri": "https://localhost:8080/"
        },
        "outputId": "ba14c9e6-278e-4419-8298-534fb6a22f6c"
      },
      "execution_count": 12,
      "outputs": [
        {
          "output_type": "stream",
          "name": "stdout",
          "text": [
            "The document discusses the implementation of bidirectional recurrent neural networks (BiRNNs) for tasks such as language translation and speech recognition. It highlights the normalization of the L2-norm of the gradient during training, and the use of stochastic gradient descent (SGD) with mini-batches to efficiently process sentence data. The BiRNN architecture incorporates both forward and backward RNNs to create annotations for words that summarize both preceding and following contexts.\n",
            "\n",
            "The document provides insights into the alignment of translated words with source words, utilizing visualization of annotation weights to show the importance of source words in generating target translations. It notes that while the model generally produces monotonic alignments, there are instances of non-monotonic alignments, particularly with adjectives and nouns between English and French. \n",
            "\n",
            "Examples are given of translation performance, indicating that while the RNNencdec-50 model struggled with certain phrases, the RNNsearch-50 model successfully maintained the meaning of the original source sentences. The document concludes that the proposed BiRNN architecture demonstrates promise for improved understanding of language translation and processing.\n"
          ]
        }
      ]
    },
    {
      "cell_type": "code",
      "source": [
        "graph.get_graph().draw_mermaid_png(output_file_path=\"graph.png\")\n",
        "print(graph.get_graph().draw_mermaid())\n"
      ],
      "metadata": {
        "colab": {
          "base_uri": "https://localhost:8080/"
        },
        "id": "RUxQYyhn__cq",
        "outputId": "eb5de52b-c949-4224-95cd-64d631ce8235"
      },
      "execution_count": 14,
      "outputs": [
        {
          "output_type": "stream",
          "name": "stdout",
          "text": [
            "---\n",
            "config:\n",
            "  flowchart:\n",
            "    curve: linear\n",
            "---\n",
            "graph TD;\n",
            "\t__start__([<p>__start__</p>]):::first\n",
            "\tanalyze_query(analyze_query)\n",
            "\tchat_only(chat_only)\n",
            "\tretrieve(retrieve)\n",
            "\tgenerate(generate)\n",
            "\t__end__([<p>__end__</p>]):::last\n",
            "\t__start__ --> analyze_query;\n",
            "\tanalyze_query -.-> chat_only;\n",
            "\tanalyze_query -.-> retrieve;\n",
            "\tretrieve --> generate;\n",
            "\tchat_only --> __end__;\n",
            "\tgenerate --> __end__;\n",
            "\tclassDef default fill:#f2f0ff,line-height:1.2\n",
            "\tclassDef first fill-opacity:0\n",
            "\tclassDef last fill:#bfb6fc\n",
            "\n"
          ]
        }
      ]
    },
    {
      "cell_type": "code",
      "source": [
        "from IPython.display import Image\n",
        "\n",
        "# render graph and display inline\n",
        "Image(graph.get_graph().draw_mermaid_png())\n"
      ],
      "metadata": {
        "colab": {
          "base_uri": "https://localhost:8080/",
          "height": 449
        },
        "id": "-UJIoR60AdqV",
        "outputId": "96ab19dd-c3d3-4366-c38f-841fea65499d"
      },
      "execution_count": 15,
      "outputs": [
        {
          "output_type": "execute_result",
          "data": {
            "image/png": "[encoded data removed]",
            "text/plain": [
              "<IPython.core.display.Image object>"
            ]
          },
          "metadata": {},
          "execution_count": 15
        }
      ]
    },
    {
      "cell_type": "code",
      "source": [],
      "metadata": {
        "id": "Tk55SUfWAsOh"
      },
      "execution_count": null,
      "outputs": []
    }
  ]
}